{
 "cells": [
  {
   "cell_type": "code",
   "execution_count": 2,
   "id": "d63f416b",
   "metadata": {},
   "outputs": [],
   "source": [
    "# Notes & Lecture by Akhona Njeje.\n",
    "# Date : 4-5 Sept 2023.\n",
    "# Topic : Drawing on images using a mouse(Part 1).\n",
    "\n",
    "# Connect a drawing to a image.\n",
    "\n",
    "import cv2\n",
    "import numpy as np"
   ]
  },
  {
   "cell_type": "code",
   "execution_count": 3,
   "id": "e3a9df60",
   "metadata": {},
   "outputs": [
    {
     "data": {
      "text/plain": [
       "<function destroyAllWindows>"
      ]
     },
     "execution_count": 3,
     "metadata": {},
     "output_type": "execute_result"
    }
   ],
   "source": [
    "# Create a black image.\n",
    "\n",
    "def circle(event,x,y,flags,param):\n",
    "    if event == cv2.EVENT_LBUTTONDOWN:\n",
    "        cv2.circle(img,(x,y),100,(0,255,0),-1)\n",
    "    \n",
    "cv2.namedWindow(winname='Akhona Drawing')\n",
    "cv2.setMouseCallback('Akhona Drawing', circle)\n",
    "\n",
    "img = np.zeros((500,500,3))\n",
    "while True:\n",
    "    cv2.imshow('Akhona Drawing', img)\n",
    "    if cv2.waitKey(20) & 0xFF == 27:\n",
    "        break\n",
    "        \n",
    "cv2.destroyAllWindows # This code gives us a window where we can draw on."
   ]
  },
  {
   "cell_type": "code",
   "execution_count": 4,
   "id": "31787748",
   "metadata": {},
   "outputs": [
    {
     "data": {
      "text/plain": [
       "<function destroyAllWindows>"
      ]
     },
     "execution_count": 4,
     "metadata": {},
     "output_type": "execute_result"
    }
   ],
   "source": [
    "# Part 2.\n",
    "\n",
    "def circle(event,x,y,flags,param):\n",
    "    if event == cv2.EVENT_LBUTTONDOWN:\n",
    "        cv2.circle(img,(x,y),100,(0,255,0),-1)  # Left button = Green circle.\n",
    "    elif event == cv2.EVENT_RBUTTONDOWN:\n",
    "        cv2.circle(img,(x,y),100,(255,0,0),-1)  # Right button = Blue circle.\n",
    "    \n",
    "cv2.namedWindow(winname='Akhona Drawing')\n",
    "cv2.setMouseCallback('Akhona Drawing', circle)\n",
    "\n",
    "img = np.zeros((500,500,3))\n",
    "while True:\n",
    "    cv2.imshow('Akhona Drawing', img)\n",
    "    if cv2.waitKey(20) & 0xFF == 27:\n",
    "        break\n",
    "        \n",
    "cv2.destroyAllWindows # This code gives us a window where we can draw on."
   ]
  },
  {
   "cell_type": "code",
   "execution_count": 5,
   "id": "fb13f0c4",
   "metadata": {},
   "outputs": [],
   "source": [
    "# Part 3: Drawing rectangles by dragging.\n",
    "\n",
    "drawing = False\n",
    "ix = -1\n",
    "iy = -1\n",
    "\n",
    "def rectangle(event,x,y,flags,params):\n",
    "    global ix,iy,drawing\n",
    "    \n",
    "    if event == cv2.EVENT_LBUTTONDOWN:\n",
    "        \n",
    "        drawing = True\n",
    "        ix,iy = x,y\n",
    "    \n",
    "    elif event == cv2.EVENT_MOUSEMOVE:\n",
    "        if drawing == True:\n",
    "            cv2.rectangle(img,(ix,iy),(x,y),(0,255,0),-1)\n",
    "            \n",
    "    elif event == cv2.EVENT_LBUTTONUP:\n",
    "        drawing = False\n",
    "        cv2.rectangle(img,(ix,iy),(x,y),(0,255,0),-1)\n",
    "\n",
    "img = np.zeros((512,512,3))\n",
    "cv2.namedWindow(winname='Akhona Art')\n",
    "cv2.setMouseCallback('Akhona Art', rectangle)\n",
    "\n",
    "while True:\n",
    "    cv2.imshow('Akhona Art',img)\n",
    "    if cv2.waitKey(1) & 0xFF == 27:\n",
    "        break\n",
    "cv2.destroyAllWindows()"
   ]
  }
 ],
 "metadata": {
  "kernelspec": {
   "display_name": "Python 3 (ipykernel)",
   "language": "python",
   "name": "python3"
  },
  "language_info": {
   "codemirror_mode": {
    "name": "ipython",
    "version": 3
   },
   "file_extension": ".py",
   "mimetype": "text/x-python",
   "name": "python",
   "nbconvert_exporter": "python",
   "pygments_lexer": "ipython3",
   "version": "3.10.9"
  }
 },
 "nbformat": 4,
 "nbformat_minor": 5
}
