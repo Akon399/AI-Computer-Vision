{
 "cells": [
  {
   "cell_type": "markdown",
   "id": "c7efff8b",
   "metadata": {},
   "source": [
    "# Machine Intellingence, Computer Vision.\n",
    "* 27 February 2024.\n",
    "* Solution notes by Mr Akhona Njeje.\n",
    "* Testing vision & analysing the video Mathematically. \n",
    "* Createing a AI vision system that reads in live streaming video data."
   ]
  },
  {
   "cell_type": "code",
   "execution_count": 4,
   "id": "40b3fb7c",
   "metadata": {},
   "outputs": [],
   "source": [
    "# Connecting OCV to camera.\n",
    "# Before connecting to a video, make sure all the kernels of other jupyert files is off.\n",
    "# When multiple kernels are on they cause noise to the Algorithms of OCV.\n",
    "# Streaming video directly from webcam, Documentation : https://opencv.org/ .\n",
    "\n",
    "import cv2\n",
    "import numpy as np\n",
    "import time\n",
    "cap = cv2.VideoCapture(0)\n",
    "\n",
    "width = int(cap.get(cv2.CAP_PROP_FRAME_WIDTH))\n",
    "height = int(cap.get(cv2.CAP_PROP_FRAME_HEIGHT))\n",
    "\n",
    "writer = cv2.VideoWriter('Vision.mp4', cv2.VideoWriter_fourcc(*'DIVX'), 20, (width,height)) \n",
    "\n",
    "while True:\n",
    "    re, frame = cap.read()\n",
    "    writer.write(frame)\n",
    "    gray = cv2.cvtColor(frame, cv2.COLOR_BGR2GRAY)\n",
    "    cv2.imshow('frame', gray)\n",
    "    if cv2.waitKey(1) & 0xFF == ord('q'):\n",
    "        break\n",
    "    \n",
    "cap.release()\n",
    "writer.release()\n",
    "cv2.destroyAllWindows()"
   ]
  },
  {
   "cell_type": "code",
   "execution_count": 2,
   "id": "aacf26bc",
   "metadata": {},
   "outputs": [
    {
     "data": {
      "text/plain": [
       "'C:\\\\Users\\\\User\\\\Desktop\\\\Ak Projects\\\\AI\\\\Robotics\\\\Computer Vision\\\\P5 Video with OpenCV'"
      ]
     },
     "execution_count": 2,
     "metadata": {},
     "output_type": "execute_result"
    }
   ],
   "source": [
    "pwd"
   ]
  },
  {
   "cell_type": "code",
   "execution_count": 3,
   "id": "0f869ac3",
   "metadata": {},
   "outputs": [],
   "source": [
    "# gray = black & white video/image.\n",
    "\n",
    "while True:\n",
    "    re, frame = cap.read()\n",
    "    writer.write(frame)\n",
    "    gray = cv2.cvtColor(frame, cv2.COLOR_BGR2GRAY)\n",
    "    cv2.imshow('frame', gray)\n",
    "    if cv2.waitKey(1) & 0xFF == ord('q'):\n",
    "        break\n",
    "    \n",
    "cap.release()\n",
    "writer.release()\n",
    "cv2.destroyAllWindows()"
   ]
  },
  {
   "cell_type": "code",
   "execution_count": 6,
   "id": "06ef9d13",
   "metadata": {},
   "outputs": [],
   "source": [
    "cap = cv2.VideoCapture('Vision.mp4')\n",
    "\n",
    "if cap.isOpened() == False:\n",
    "    print('Ribot: Akhona Sir the video file your looking for is not found!')\n",
    "while cap.isOpened():\n",
    "    ret, frame = cap.read()\n",
    "    if ret == True:\n",
    "        time.sleep(1/20)   # Cause the system plays the video quickly, so 1/20 PLAYS AT A NORMAL Human speed.\n",
    "        cv2.imshow('frame', frame)\n",
    "        if cv2.waitKey(1) & 0xFF == ord('q'):\n",
    "            break\n",
    "    else:\n",
    "        break\n",
    "cap.release()\n",
    "cv2.destroyAllWindows()"
   ]
  },
  {
   "cell_type": "code",
   "execution_count": 10,
   "id": "d64878e4",
   "metadata": {},
   "outputs": [],
   "source": [
    "# Drawing on video.\n",
    "# Lets stream directly from video cam.\n",
    "\n",
    "cap = cv2.VideoCapture(0)\n",
    "\n",
    "width = int(cap.get(cv2.CAP_PROP_FRAME_WIDTH))\n",
    "height = int(cap.get(cv2.CAP_PROP_FRAME_WIDTH))\n",
    "\n",
    "x = width // 2\n",
    "y = height // 2\n",
    "\n",
    "w = width // 4\n",
    "h = height // 4\n",
    "\n",
    "while True:\n",
    "    ret, frame = cap.read()\n",
    "    cv2.rectangle(frame, (x,y), (x+w, y+h), color=(0,0,255), thickness=4)\n",
    "    cv2.imshow('frame', frame)\n",
    "    \n",
    "    if cv2.waitKey(1) & 0xFF == ord('q'):\n",
    "        break\n",
    "cap.release()\n",
    "cv2.destroyAllWindows()   # We have succefully drawn on the video. A Red Square."
   ]
  },
  {
   "cell_type": "code",
   "execution_count": 18,
   "id": "db8518d0",
   "metadata": {},
   "outputs": [],
   "source": [
    "# Lets draw a rectangle on our video.\n",
    "# Create a call back fucntion 1st.\n",
    "\n",
    "def rectangle(event, x, y, flags, param):\n",
    "    global pt1, pt2, topLeft_clicked, botRight_clicked\n",
    "    \n",
    "    if event == cv2.EVENT_LBUTTONDOWN:\n",
    "        if topLeft_clicked == True and botRight_clicked == True:\n",
    "            pt1 = (0,0)\n",
    "            pt2 = (0,0)\n",
    "            topLeft_clicked = False\n",
    "            botRight_clicked = False\n",
    "            \n",
    "        if topLeft_clicked == False:\n",
    "            pt1 = (x,y)\n",
    "            topLeft_clicked = True\n",
    "            \n",
    "        elif botRight_clicked == False:\n",
    "            pt2 = (x,y)\n",
    "            botRight_clicked = True\n",
    "    pass\n",
    "\n",
    "pt1 = (0,0)\n",
    "pt2 = (0,0)\n",
    "\n",
    "topLeft_clicked = False\n",
    "botRight_clicked = False\n",
    "\n",
    "cap = cv2.VideoCapture(0)\n",
    "cv2.namedWindow('Test')\n",
    "cv2.setMouseCallback('Test', rectangle)\n",
    "\n",
    "while True:\n",
    "    ret, frame = cap.read()\n",
    "    \n",
    "    if topLeft_clicked:\n",
    "        cv2.circle(frame, center=pt1, radius=5, color=(0,0,255),thickness=-1)\n",
    "        \n",
    "    if topLeft_clicked and botRight_clicked:\n",
    "        cv2.rectangle(frame, pt1, pt2, (0,0,255),3)\n",
    "    cv2.imshow('Test', frame)\n",
    "    if cv2.waitKey(1) & 0xFF == ord('q'):\n",
    "        break\n",
    "cap.release()\n",
    "cv2.destroyAllWindows()"
   ]
  },
  {
   "cell_type": "markdown",
   "id": "e690dde1",
   "metadata": {},
   "source": [
    "# Video Assessment."
   ]
  },
  {
   "cell_type": "code",
   "execution_count": 20,
   "id": "a0e426a1",
   "metadata": {},
   "outputs": [],
   "source": [
    "def draw_circle(event, x, y, flags, param):\n",
    "    global center, clicked\n",
    "    \n",
    "    # Get mouse click on down & track cnter.\n",
    "    if event == cv2.EVENT_LBUTTONDOWN:\n",
    "        center = (x,y)\n",
    "        clicked = False\n",
    "    if event == cv2.EVENT_LBUTTONUP:\n",
    "        clicked = True"
   ]
  },
  {
   "cell_type": "code",
   "execution_count": 24,
   "id": "bfbe8d27",
   "metadata": {},
   "outputs": [],
   "source": [
    "center = (0,0)\n",
    "clicked = False\n",
    "\n",
    "cap = cv2.VideoCapture(0)\n",
    "cv2.namedWindow('Test')\n",
    "\n",
    "# Draw circle function to mouse clicks.\n",
    "\n",
    "while True:\n",
    "    ret, frame = cap.read()\n",
    "    if clicked:\n",
    "        cv2.circle(frame, center=center, radius=50, color=(255,0,0), thickness=5)\n",
    "    cv2.imshow('Test', frame)\n",
    "    if cv2.waitKey(1) & 0xFF == ord('q'):\n",
    "        break\n",
    "        \n",
    "cap.release()\n",
    "cv2.destroyAllWindows()"
   ]
  }
 ],
 "metadata": {
  "kernelspec": {
   "display_name": "Python 3 (ipykernel)",
   "language": "python",
   "name": "python3"
  },
  "language_info": {
   "codemirror_mode": {
    "name": "ipython",
    "version": 3
   },
   "file_extension": ".py",
   "mimetype": "text/x-python",
   "name": "python",
   "nbconvert_exporter": "python",
   "pygments_lexer": "ipython3",
   "version": "3.11.5"
  }
 },
 "nbformat": 4,
 "nbformat_minor": 5
}
